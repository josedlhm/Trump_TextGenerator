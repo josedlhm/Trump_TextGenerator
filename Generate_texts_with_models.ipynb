{
  "nbformat": 4,
  "nbformat_minor": 0,
  "metadata": {
    "colab": {
      "name": "Running_Trump_Speech_Generator_For_Review.ipynb",
      "provenance": [],
      "collapsed_sections": [],
      "authorship_tag": "ABX9TyOXlf6Q3GhPWZv62T64r7V2",
      "include_colab_link": true
    },
    "kernelspec": {
      "name": "python3",
      "display_name": "Python 3"
    },
    "language_info": {
      "name": "python"
    }
  },
  "cells": [
    {
      "cell_type": "markdown",
      "metadata": {
        "id": "view-in-github",
        "colab_type": "text"
      },
      "source": [
        "<a href=\"https://colab.research.google.com/github/josedlhm/Trump_TextGenerator/blob/main/Generate_texts_with_models.ipynb\" target=\"_parent\"><img src=\"https://colab.research.google.com/assets/colab-badge.svg\" alt=\"Open In Colab\"/></a>"
      ]
    },
    {
      "cell_type": "code",
      "metadata": {
        "colab": {
          "base_uri": "https://localhost:8080/"
        },
        "id": "JJ_tOHVNdmAy",
        "outputId": "d5898111-ebe4-48db-b711-e2bd5e485824"
      },
      "source": [
        "!pip install transformers\n"
      ],
      "execution_count": null,
      "outputs": [
        {
          "output_type": "stream",
          "name": "stdout",
          "text": [
            "Requirement already satisfied: transformers in /usr/local/lib/python3.7/dist-packages (4.12.5)\n",
            "Requirement already satisfied: requests in /usr/local/lib/python3.7/dist-packages (from transformers) (2.23.0)\n",
            "Requirement already satisfied: pyyaml>=5.1 in /usr/local/lib/python3.7/dist-packages (from transformers) (6.0)\n",
            "Requirement already satisfied: sacremoses in /usr/local/lib/python3.7/dist-packages (from transformers) (0.0.46)\n",
            "Requirement already satisfied: tokenizers<0.11,>=0.10.1 in /usr/local/lib/python3.7/dist-packages (from transformers) (0.10.3)\n",
            "Requirement already satisfied: packaging>=20.0 in /usr/local/lib/python3.7/dist-packages (from transformers) (21.3)\n",
            "Requirement already satisfied: filelock in /usr/local/lib/python3.7/dist-packages (from transformers) (3.4.0)\n",
            "Requirement already satisfied: numpy>=1.17 in /usr/local/lib/python3.7/dist-packages (from transformers) (1.19.5)\n",
            "Requirement already satisfied: huggingface-hub<1.0,>=0.1.0 in /usr/local/lib/python3.7/dist-packages (from transformers) (0.1.2)\n",
            "Requirement already satisfied: regex!=2019.12.17 in /usr/local/lib/python3.7/dist-packages (from transformers) (2019.12.20)\n",
            "Requirement already satisfied: importlib-metadata in /usr/local/lib/python3.7/dist-packages (from transformers) (4.8.2)\n",
            "Requirement already satisfied: tqdm>=4.27 in /usr/local/lib/python3.7/dist-packages (from transformers) (4.62.3)\n",
            "Requirement already satisfied: typing-extensions>=3.7.4.3 in /usr/local/lib/python3.7/dist-packages (from huggingface-hub<1.0,>=0.1.0->transformers) (3.10.0.2)\n",
            "Requirement already satisfied: pyparsing!=3.0.5,>=2.0.2 in /usr/local/lib/python3.7/dist-packages (from packaging>=20.0->transformers) (3.0.6)\n",
            "Requirement already satisfied: zipp>=0.5 in /usr/local/lib/python3.7/dist-packages (from importlib-metadata->transformers) (3.6.0)\n",
            "Requirement already satisfied: idna<3,>=2.5 in /usr/local/lib/python3.7/dist-packages (from requests->transformers) (2.10)\n",
            "Requirement already satisfied: certifi>=2017.4.17 in /usr/local/lib/python3.7/dist-packages (from requests->transformers) (2021.10.8)\n",
            "Requirement already satisfied: urllib3!=1.25.0,!=1.25.1,<1.26,>=1.21.1 in /usr/local/lib/python3.7/dist-packages (from requests->transformers) (1.24.3)\n",
            "Requirement already satisfied: chardet<4,>=3.0.2 in /usr/local/lib/python3.7/dist-packages (from requests->transformers) (3.0.4)\n",
            "Requirement already satisfied: joblib in /usr/local/lib/python3.7/dist-packages (from sacremoses->transformers) (1.1.0)\n",
            "Requirement already satisfied: six in /usr/local/lib/python3.7/dist-packages (from sacremoses->transformers) (1.15.0)\n",
            "Requirement already satisfied: click in /usr/local/lib/python3.7/dist-packages (from sacremoses->transformers) (7.1.2)\n"
          ]
        }
      ]
    },
    {
      "cell_type": "markdown",
      "source": [
        "Here we import the pipeline from the hugggingface library\n",
        "and use it to load the pre-trained open-ai gpt model\n",
        "\n",
        "Then we run this model, using the pipeline, to generate a text given the input \"Mexico is\" \n",
        "\n",
        "We specify a bunch of parameters: the maximum length, we activate early stopping, the number of decision trees, and we avoid repetition in text generation with no_repeat_ngram_size.\n",
        "\n",
        "We do this to show how the model performs before fine tuning. "
      ],
      "metadata": {
        "id": "1o55HGCDHrEX"
      }
    },
    {
      "cell_type": "code",
      "metadata": {
        "colab": {
          "base_uri": "https://localhost:8080/"
        },
        "id": "wdeVTPVMzH-s",
        "outputId": "c39c04ef-7e36-4633-95ff-2f0898cdb712"
      },
      "source": [
        "\n",
        "from transformers import pipeline\n",
        "pipe = pipeline('text-generation', model=\"openai-gpt\", \n",
        "                 tokenizer=\"openai-gpt\")\n",
        "\n",
        "text_generic = pipe(\"Mexico is\", \n",
        "            max_length=50, \n",
        "            early_stopping = True, \n",
        "            no_repeat_ngram_size=2, \n",
        "            num_beams=2)[0][\"generated_text\"] \n",
        "\n"
      ],
      "execution_count": null,
      "outputs": [
        {
          "output_type": "stream",
          "name": "stderr",
          "text": [
            "Some weights of OpenAIGPTLMHeadModel were not initialized from the model checkpoint at openai-gpt and are newly initialized: ['lm_head.weight']\n",
            "You should probably TRAIN this model on a down-stream task to be able to use it for predictions and inference.\n",
            "/usr/local/lib/python3.7/dist-packages/transformers/generation_utils.py:2142: UserWarning: __floordiv__ is deprecated, and its behavior will change in a future version of pytorch. It currently rounds toward 0 (like the 'trunc' function NOT 'floor'). This results in incorrect rounding for negative values. To keep the current behavior, use torch.div(a, b, rounding_mode='trunc'), or for actual floor division, use torch.div(a, b, rounding_mode='floor').\n",
            "  next_indices = next_tokens // vocab_size\n"
          ]
        }
      ]
    },
    {
      "cell_type": "markdown",
      "source": [
        "We print generated text"
      ],
      "metadata": {
        "id": "BGxM9aq8IMD7"
      }
    },
    {
      "cell_type": "code",
      "metadata": {
        "colab": {
          "base_uri": "https://localhost:8080/"
        },
        "id": "brgyp1j6zZ15",
        "outputId": "b39b845e-f29f-4226-f127-5d2e786cb117"
      },
      "source": [
        "print(text_generic)  "
      ],
      "execution_count": null,
      "outputs": [
        {
          "output_type": "stream",
          "name": "stdout",
          "text": [
            "Mexico is going to be a problem. \" \n",
            " \" i'm not worried about that, \" she said. \n",
            " he turned back to the window, but she could tell he was thinking about it. she didn't know what he 'd do if he\n"
          ]
        }
      ]
    },
    {
      "cell_type": "markdown",
      "source": [
        "We import model finetuned with speeches and assign to model_speeches\n"
      ],
      "metadata": {
        "id": "HtCdmEIyIOL8"
      }
    },
    {
      "cell_type": "code",
      "metadata": {
        "colab": {
          "base_uri": "https://localhost:8080/"
        },
        "id": "xAxy_CMVeuul",
        "outputId": "ff3a314f-5d5e-4dbc-8c75-63d57e04648d"
      },
      "source": [
        "from transformers import AutoModelWithLMHead \n",
        "\n",
        "model_speeches = AutoModelWithLMHead.from_pretrained(\"josedlhm/new_model\") "
      ],
      "execution_count": null,
      "outputs": [
        {
          "output_type": "stream",
          "name": "stderr",
          "text": [
            "/usr/local/lib/python3.7/dist-packages/transformers/models/auto/modeling_auto.py:698: FutureWarning: The class `AutoModelWithLMHead` is deprecated and will be removed in a future version. Please use `AutoModelForCausalLM` for causal language models, `AutoModelForMaskedLM` for masked language models and `AutoModelForSeq2SeqLM` for encoder-decoder models.\n",
            "  FutureWarning,\n"
          ]
        }
      ]
    },
    {
      "cell_type": "markdown",
      "source": [
        "We import model finetuned with tweets and assign to model_tweets\n"
      ],
      "metadata": {
        "id": "PgWsWJP4Iqe8"
      }
    },
    {
      "cell_type": "code",
      "metadata": {
        "colab": {
          "base_uri": "https://localhost:8080/"
        },
        "id": "u482k3-h2lxV",
        "outputId": "7463f905-dc28-4e3a-8123-3c7907f40970"
      },
      "source": [
        "model_tweets = AutoModelWithLMHead.from_pretrained(\"josedlhm/trump_tweet\")  "
      ],
      "execution_count": null,
      "outputs": [
        {
          "output_type": "stream",
          "name": "stderr",
          "text": [
            "/usr/local/lib/python3.7/dist-packages/transformers/models/auto/modeling_auto.py:698: FutureWarning: The class `AutoModelWithLMHead` is deprecated and will be removed in a future version. Please use `AutoModelForCausalLM` for causal language models, `AutoModelForMaskedLM` for masked language models and `AutoModelForSeq2SeqLM` for encoder-decoder models.\n",
            "  FutureWarning,\n"
          ]
        }
      ]
    },
    {
      "cell_type": "markdown",
      "source": [
        "We call the pipeline function again this time to test our finetuned models. You can specify which of the models to use by changing the model parameter to either model_tweets or model_speeches. "
      ],
      "metadata": {
        "id": "UJ5ubmCTIs5p"
      }
    },
    {
      "cell_type": "code",
      "metadata": {
        "colab": {
          "base_uri": "https://localhost:8080/"
        },
        "id": "lOr4zk_Od4AC",
        "outputId": "779ce0ba-8636-4c71-d61a-ba275b97707a"
      },
      "source": [
        "from transformers import pipeline\n",
        "pipe = pipeline('text-generation', model=model_tweets,\n",
        "                 tokenizer=\"openai-gpt\")\n",
        "\n",
        "text = pipe(\"Hillary Clinton is \", \n",
        "            max_length=30, \n",
        "            early_stopping = True, \n",
        "            no_repeat_ngram_size=2, \n",
        "            num_beams=2)[0][\"generated_text\"]\n"
      ],
      "execution_count": null,
      "outputs": [
        {
          "output_type": "stream",
          "name": "stderr",
          "text": [
            "/usr/local/lib/python3.7/dist-packages/transformers/generation_utils.py:2142: UserWarning: __floordiv__ is deprecated, and its behavior will change in a future version of pytorch. It currently rounds toward 0 (like the 'trunc' function NOT 'floor'). This results in incorrect rounding for negative values. To keep the current behavior, use torch.div(a, b, rounding_mode='trunc'), or for actual floor division, use torch.div(a, b, rounding_mode='floor').\n",
            "  next_indices = next_tokens // vocab_size\n"
          ]
        }
      ]
    },
    {
      "cell_type": "markdown",
      "source": [
        "prints text"
      ],
      "metadata": {
        "id": "m9WFCSgmI3Dq"
      }
    },
    {
      "cell_type": "code",
      "metadata": {
        "colab": {
          "base_uri": "https://localhost:8080/"
        },
        "id": "LI1v_OiTzfDh",
        "outputId": "73750c5e-f09f-4bd3-f1a2-af86c4dc6fc1"
      },
      "source": [
        "print(text)"
      ],
      "execution_count": null,
      "outputs": [
        {
          "output_type": "stream",
          "name": "stdout",
          "text": [
            "Hillary Clinton is  a disgrace to america! the fake news media is doing everything within its power to make me look as bad as possible. they are truly the enemy of the people! https : / / t. co / wsgsqf\n"
          ]
        }
      ]
    }
  ]
}